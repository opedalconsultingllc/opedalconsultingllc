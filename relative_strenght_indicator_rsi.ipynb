{
  "nbformat": 4,
  "nbformat_minor": 0,
  "metadata": {
    "colab": {
      "name": "Untitled2.ipynb",
      "provenance": [],
      "authorship_tag": "ABX9TyNz/FnXsPrFk9bFHQFK1XK7",
      "include_colab_link": true
    },
    "kernelspec": {
      "name": "python3",
      "display_name": "Python 3"
    },
    "language_info": {
      "name": "python"
    }
  },
  "cells": [
    {
      "cell_type": "markdown",
      "metadata": {
        "id": "view-in-github",
        "colab_type": "text"
      },
      "source": [
        "<a href=\"https://colab.research.google.com/github/opedalconsultingllc/opedalconsultingllc/blob/main/relative_strenght_indicator_rsi.ipynb\" target=\"_parent\"><img src=\"https://colab.research.google.com/assets/colab-badge.svg\" alt=\"Open In Colab\"/></a>"
      ]
    },
    {
      "cell_type": "code",
      "execution_count": 1,
      "metadata": {
        "id": "SQ1Z3l5kPoyy"
      },
      "outputs": [],
      "source": [
        "import pandas as pd\n",
        "import pandas_datareader as web\n",
        "import matplotlib.pyplot as plt\n",
        "import datetime as dt\n",
        "% matplotlib inline"
      ]
    },
    {
      "cell_type": "code",
      "source": [
        "ticker = 'goog'\n",
        "start = dt.datetime(2022, 1, 1)\n",
        "end = dt.datetime.now()\n",
        "data = web.DataReader(ticker, 'stooq', start, end)"
      ],
      "metadata": {
        "id": "zGzU0EvEP7or"
      },
      "execution_count": 11,
      "outputs": []
    },
    {
      "cell_type": "code",
      "source": [
        "delta = data['Close'].diff(1)\n",
        "delta.dropna(inplace=True)\n"
      ],
      "metadata": {
        "id": "woAts5gNSlGh"
      },
      "execution_count": 12,
      "outputs": []
    },
    {
      "cell_type": "code",
      "source": [
        "pos = delta.copy()\n",
        "pos[pos<0] = 0\n",
        "\n",
        "neg = delta.copy()\n",
        "neg[neg>0] = 0"
      ],
      "metadata": {
        "id": "xjEFipq-Szuq"
      },
      "execution_count": 13,
      "outputs": []
    },
    {
      "cell_type": "code",
      "source": [
        "days = 15\n",
        "avg_gain = pos.rolling(window = days).mean()\n",
        "avg_loss = abs(neg.rolling(window = days).mean())\n",
        "relative_strength = avg_gain/avg_loss\n",
        "\n",
        "rsi = 100.0 - (100.0 / (1.0 + relative_strength) )"
      ],
      "metadata": {
        "id": "2xM8iDZLTun-"
      },
      "execution_count": 14,
      "outputs": []
    },
    {
      "cell_type": "code",
      "source": [
        "df = pd.DataFrame()\n",
        "df['Close'] = data['Close']\n",
        "df['rsi'] = rsi"
      ],
      "metadata": {
        "id": "pwuw_Jr2U8RO"
      },
      "execution_count": 15,
      "outputs": []
    },
    {
      "cell_type": "code",
      "source": [
        "plt.figure()\n",
        "ax1 = plt.subplot(211)\n",
        "ax1.plot(df.index, df['Close'])\n",
        "\n",
        "ax2 = plt.subplot(212, sharex = ax1)\n",
        "ax2.plot(df.index, df['rsi'])\n",
        "ax2.axhline(0, linestyle = '--')\n",
        "ax2.axhline(10, linestyle = '--')\n",
        "ax2.axhline(30, linestyle = '--')\n",
        "ax2.axhline(50, linestyle = '--')\n",
        "ax2.axhline(70, linestyle = '--')\n",
        "ax2.axhline(80, linestyle = '--')\n",
        "ax2.axhline(90, linestyle = '--')\n",
        "ax2.axhline(100, linestyle = '--')\n",
        "plt.show"
      ],
      "metadata": {
        "colab": {
          "base_uri": "https://localhost:8080/",
          "height": 287
        },
        "id": "k3H9KyxTVhYP",
        "outputId": "b00a1a82-18fc-4d6b-c3d3-95d559e5d4bb"
      },
      "execution_count": 16,
      "outputs": [
        {
          "output_type": "execute_result",
          "data": {
            "text/plain": [
              "<function matplotlib.pyplot.show>"
            ]
          },
          "metadata": {},
          "execution_count": 16
        },
        {
          "output_type": "display_data",
          "data": {
            "text/plain": [
              "<Figure size 432x288 with 2 Axes>"
            ],
            "image/png": "[encoded data removed]"
          },
          "metadata": {
            "needs_background": "light"
          }
        }
      ]
    }
  ]
}